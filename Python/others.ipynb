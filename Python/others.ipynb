{
 "cells": [
  {
   "cell_type": "markdown",
   "id": "13d18c8a",
   "metadata": {},
   "source": [
    "### bisect – For maintaining sorted sequences efficiently"
   ]
  },
  {
   "cell_type": "code",
   "execution_count": 1,
   "id": "e94a0952",
   "metadata": {},
   "outputs": [
    {
     "name": "stdout",
     "output_type": "stream",
     "text": [
      "Insert 82 at position: 3\n",
      "Grades after insertion: [60, 70, 75, 82, 85, 90, 95]\n",
      "Score 82 gets grade: B\n",
      "Score 75 gets grade: C\n"
     ]
    }
   ],
   "source": [
    "from bisect import bisect_left, bisect_right, insort\n",
    "\n",
    "# Let's create a grade tracking system\n",
    "grades = [60, 70, 75, 85, 90, 95]\n",
    "\n",
    "# Find where to insert a new grade while keeping the list sorted\n",
    "new_grade = 82\n",
    "position = bisect_left(grades, new_grade)\n",
    "print(f\"Insert 82 at position: {position}\")\n",
    "\n",
    "# Insert while maintaining sort order\n",
    "insort(grades, new_grade)\n",
    "print(f\"Grades after insertion: {grades}\")\n",
    "\n",
    "# Find grade ranges\n",
    "def grade_to_letter(score):\n",
    "    breakpoints = [60, 70, 80, 90]  # F, D, C, B, A\n",
    "    grades = 'FDCBA'\n",
    "    position = bisect_right(breakpoints, score)\n",
    "    return grades[position]\n",
    "\n",
    "print(f\"Score 82 gets grade: {grade_to_letter(82)}\")\n",
    "print(f\"Score 75 gets grade: {grade_to_letter(75)}\")"
   ]
  },
  {
   "cell_type": "markdown",
   "id": "12bbf3a4",
   "metadata": {},
   "source": [
    "### itertools.pairwise – For processing sequential pairs of data"
   ]
  },
  {
   "cell_type": "code",
   "execution_count": 3,
   "id": "9e8a7ab8",
   "metadata": {},
   "outputs": [
    {
     "name": "stdout",
     "output_type": "stream",
     "text": [
      "Temperature changes: [3, 1, 1, -2, -1, -2]\n",
      "Moving averages: [21.5, 23.5, 24.5, 24.0, 22.5, 21.0]\n",
      "Largest temperature change: 3 degrees\n"
     ]
    }
   ],
   "source": [
    "from itertools import pairwise\n",
    "\n",
    "# Let's analyze temperature changes\n",
    "temperatures = [20, 23, 24, 25, 23, 22, 20]\n",
    "\n",
    "# Calculate temperature changes between consecutive readings\n",
    "changes = []\n",
    "for prev, curr in pairwise(temperatures):\n",
    "    change = curr - prev\n",
    "    changes.append(change)\n",
    "\n",
    "print(\"Temperature changes:\", changes)\n",
    "\n",
    "# Calculate moving averages\n",
    "moving_averages = []\n",
    "for t1, t2 in pairwise(temperatures):\n",
    "    avg = (t1 + t2) / 2\n",
    "    moving_averages.append(avg)\n",
    "\n",
    "print(\"Moving averages:\", moving_averages)\n",
    "\n",
    "# Finding the largest temperature jump\n",
    "max_jump = max(abs(b - a) for a, b in pairwise(temperatures))\n",
    "print(f\"Largest temperature change: {max_jump} degrees\")    "
   ]
  },
  {
   "cell_type": "markdown",
   "id": "15b7e092",
   "metadata": {},
   "source": [
    "### statistics.fmean – More precise mean calculation\n",
    " "
   ]
  },
  {
   "cell_type": "code",
   "execution_count": 4,
   "id": "af989ac9",
   "metadata": {},
   "outputs": [
    {
     "name": "stdout",
     "output_type": "stream",
     "text": [
      "Regular mean: 22.5100000000 (took 0.5670 seconds)\n",
      "fmean: 22.5100000000 (took 0.0167 seconds)\n"
     ]
    }
   ],
   "source": [
    "from statistics import mean, fmean\n",
    "import time\n",
    "\n",
    "# Let's compare fmean with regular mean \n",
    "# Imagine we're analyzing daily temperature readings\n",
    "temperatures = [\n",
    "    21.5, 22.1, 23.4, 22.8, 21.8,\n",
    "    23.2, 22.7, 23.1, 22.6, 21.9\n",
    "] * 100000  # Create a large dataset\n",
    "\n",
    "# Let's compare speed and precision\n",
    "start_time = time.perf_counter()\n",
    "regular_mean = mean(temperatures)\n",
    "regular_time = time.perf_counter() - start_time\n",
    "\n",
    "start_time = time.perf_counter()\n",
    "fast_mean = fmean(temperatures)\n",
    "fast_time = time.perf_counter() - start_time\n",
    "\n",
    "print(f\"Regular mean: {regular_mean:.10f} (took {regular_time:.4f} seconds)\")\n",
    "print(f\"fmean: {fast_mean:.10f} (took {fast_time:.4f} seconds)\")"
   ]
  },
  {
   "cell_type": "markdown",
   "id": "c8c2c02a",
   "metadata": {},
   "source": [
    "### itertools.takewhile – For processing sequences until a condition is met"
   ]
  },
  {
   "cell_type": "code",
   "execution_count": 5,
   "id": "f1173ce8",
   "metadata": {},
   "outputs": [
    {
     "name": "stdout",
     "output_type": "stream",
     "text": [
      "Logs before first error:\n",
      "INFO: System started\n",
      "INFO: Loading data\n",
      "INFO: Processing users\n"
     ]
    }
   ],
   "source": [
    "from itertools import takewhile\n",
    "\n",
    "# Processing log entries until an error\n",
    "log_entries = [\n",
    "\t\"INFO: System started\",\n",
    "\t\"INFO: Loading data\",\n",
    "\t\"INFO: Processing users\",\n",
    "\t\"ERROR: Database connection failed\",\n",
    "\t\"INFO: Retrying connection\",\n",
    "]\n",
    "\n",
    "# Get all logs until first error\n",
    "normal_operation = list(takewhile(\n",
    "\tlambda x: not x.startswith(\"ERROR\"),\n",
    "\tlog_entries\n",
    "))\n",
    "print(\"Logs before first error:\")\n",
    "for entry in normal_operation:\n",
    "    print(entry)"
   ]
  },
  {
   "cell_type": "markdown",
   "id": "2a4a55bf",
   "metadata": {},
   "source": [
    "### operator.attrgetter – For cleaner access to nested attributes\n",
    " "
   ]
  },
  {
   "cell_type": "code",
   "execution_count": 7,
   "id": "1314da27",
   "metadata": {},
   "outputs": [
    {
     "name": "stdout",
     "output_type": "stream",
     "text": [
      "Alice: Python Tips (1500 views)\n",
      "Alice: Web Dev (1800 views)\n",
      "Bob: Data Science (2500 views)\n",
      "\n",
      "Article dates: [datetime.datetime(2025, 1, 15, 0, 0), datetime.datetime(2025, 1, 20, 0, 0), datetime.datetime(2025, 1, 10, 0, 0)]\n"
     ]
    }
   ],
   "source": [
    "from operator import attrgetter\n",
    "from datetime import datetime\n",
    "\n",
    "# Let's create a simple class to demonstrate\n",
    "class Article:\n",
    "    def __init__(self, title, author, views, date):\n",
    "        self.title = title\n",
    "        self.author = author\n",
    "        self.stats = type('Stats', (), {'views': views})  # Nested attribute\n",
    "        self.date = date\n",
    "\n",
    "    def __repr__(self):\n",
    "        return f\"{self.title} by {self.author}\"\n",
    "\n",
    "# Create some sample articles\n",
    "articles = [\n",
    "\tArticle(\"Python Tips\", \"Alice\", 1500, datetime(2025, 1, 15)),\n",
    "\tArticle(\"Data Science\", \"Bob\", 2500, datetime(2025, 1, 20)),\n",
    "\tArticle(\"Web Dev\", \"Alice\", 1800, datetime(2025, 1, 10))\n",
    "]\n",
    "\n",
    "\n",
    "# Sort articles by multiple criteria\n",
    "get_author_views = attrgetter('author', 'stats.views')\n",
    "\n",
    "# Sort by author and then by views\n",
    "sorted_articles = sorted(articles, key=get_author_views)\n",
    "for article in sorted_articles:\n",
    "    print(f\"{article.author}: {article.title} ({article.stats.views} views)\")\n",
    "\n",
    "# You can also use it to extract specific attributes\n",
    "dates = list(map(attrgetter('date'), articles))\n",
    "print(\"\\nArticle dates:\", dates)"
   ]
  },
  {
   "cell_type": "markdown",
   "id": "c206bd1d",
   "metadata": {},
   "source": [
    "### itertools.chain.from_iterable – Flattening nested iterables rather cleanly\n",
    " "
   ]
  },
  {
   "cell_type": "code",
   "execution_count": 8,
   "id": "5f2cadbb",
   "metadata": {},
   "outputs": [
    {
     "name": "stdout",
     "output_type": "stream",
     "text": [
      "Flattened sales data: [('Jan', 100), ('Feb', 150), ('Mar', 200), ('Apr', 180), ('May', 210), ('Jun', 190)]\n"
     ]
    }
   ],
   "source": [
    "from itertools import chain\n",
    "\n",
    "# Let's say we're processing data from multiple sources\n",
    "sales_data = [\n",
    "\t[('Jan', 100), ('Feb', 150)],\n",
    "\t[('Mar', 200), ('Apr', 180)],\n",
    "\t[('May', 210), ('Jun', 190)]\n",
    "]\n",
    "\n",
    "# Flatten the data efficiently\n",
    "flat_sales = list(chain.from_iterable(sales_data))\n",
    "print(\"Flattened sales data:\", flat_sales)\n",
    "\n",
    "# List comprehension approach (creates intermediate list):\n",
    "flat_list = [item for sublist in sales_data for item in sublist]\n",
    "\n",
    "# chain.from_iterable approach (generates items one at a time):\n",
    "flat_iterator = chain.from_iterable(sales_data)"
   ]
  },
  {
   "cell_type": "markdown",
   "id": "53851a52",
   "metadata": {},
   "source": [
    "### itertools.product - Generating all possible combinations"
   ]
  },
  {
   "cell_type": "code",
   "execution_count": 9,
   "id": "6a216688",
   "metadata": {},
   "outputs": [
    {
     "name": "stdout",
     "output_type": "stream",
     "text": [
      "Possible laptop configurations:\n",
      "Processor: i5, RAM: 8GB, Storage: 256GB\n",
      "Processor: i5, RAM: 8GB, Storage: 512GB\n",
      "Processor: i5, RAM: 8GB, Storage: 1TB\n",
      "Processor: i5, RAM: 16GB, Storage: 256GB\n",
      "Processor: i5, RAM: 16GB, Storage: 512GB\n",
      "Processor: i5, RAM: 16GB, Storage: 1TB\n",
      "Processor: i5, RAM: 32GB, Storage: 256GB\n",
      "Processor: i5, RAM: 32GB, Storage: 512GB\n",
      "Processor: i5, RAM: 32GB, Storage: 1TB\n",
      "Processor: i7, RAM: 8GB, Storage: 256GB\n",
      "Processor: i7, RAM: 8GB, Storage: 512GB\n",
      "Processor: i7, RAM: 8GB, Storage: 1TB\n",
      "Processor: i7, RAM: 16GB, Storage: 256GB\n",
      "Processor: i7, RAM: 16GB, Storage: 512GB\n",
      "Processor: i7, RAM: 16GB, Storage: 1TB\n",
      "Processor: i7, RAM: 32GB, Storage: 256GB\n",
      "Processor: i7, RAM: 32GB, Storage: 512GB\n",
      "Processor: i7, RAM: 32GB, Storage: 1TB\n",
      "Processor: i9, RAM: 8GB, Storage: 256GB\n",
      "Processor: i9, RAM: 8GB, Storage: 512GB\n",
      "Processor: i9, RAM: 8GB, Storage: 1TB\n",
      "Processor: i9, RAM: 16GB, Storage: 256GB\n",
      "Processor: i9, RAM: 16GB, Storage: 512GB\n",
      "Processor: i9, RAM: 16GB, Storage: 1TB\n",
      "Processor: i9, RAM: 32GB, Storage: 256GB\n",
      "Processor: i9, RAM: 32GB, Storage: 512GB\n",
      "Processor: i9, RAM: 32GB, Storage: 1TB\n"
     ]
    }
   ],
   "source": [
    "from itertools import product\n",
    "\n",
    "# Available options for a custom laptop\n",
    "processors = ['i5', 'i7', 'i9']\n",
    "ram = ['8GB', '16GB', '32GB']\n",
    "storage = ['256GB', '512GB', '1TB']\n",
    "\n",
    "# Generate all possible combinations\n",
    "configurations = list(product(processors, ram, storage))\n",
    "\n",
    "print(\"Possible laptop configurations:\")\n",
    "for config in configurations:\n",
    "    print(f\"Processor: {config[0]}, RAM: {config[1]}, Storage: {config[2]}\")"
   ]
  }
 ],
 "metadata": {
  "kernelspec": {
   "display_name": "base",
   "language": "python",
   "name": "python3"
  },
  "language_info": {
   "codemirror_mode": {
    "name": "ipython",
    "version": 3
   },
   "file_extension": ".py",
   "mimetype": "text/x-python",
   "name": "python",
   "nbconvert_exporter": "python",
   "pygments_lexer": "ipython3",
   "version": "3.10.15"
  }
 },
 "nbformat": 4,
 "nbformat_minor": 5
}
