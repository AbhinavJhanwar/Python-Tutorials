{
 "cells": [
  {
   "cell_type": "code",
   "execution_count": 2,
   "metadata": {},
   "outputs": [],
   "source": [
    "import re"
   ]
  },
  {
   "cell_type": "markdown",
   "metadata": {},
   "source": [
    "# INDEX\n",
    "[1. Match a String](#Match-a-String \"Goto Match-a-String\")<br>\n",
    "[2. Matching Word and Non Word Character](#Matching-Word-and-Non-Word-Character \"Goto Matching Word and Non Word Character\")<br>\n",
    "[3. Matching Whitespace and NonWhitespace Character](#Matching-Whitespace-and-NonWhitespace-Character \"Goto Matching Whitespace and NonWhitespace Character\")<br>\n",
    "[4. Digit Non Digit](#Digit-Non-Digit \"Goto Digit Non Digit\")<br>\n",
    "[5. Match Start and End](#Match-Start-and-End \"Goto Match Start and End\")<br>\n",
    "[6. Matching Character Ranges](#Matching-Character-Ranges \"Goto Matching Character Ranges\")<br>\n",
    "[7. Excluding Specific Characters](#Excluding-Specific-Characters \"Goto Excluding Specific Characters\")<br>\n",
    "[8. Matching Repetitions for Custom Range/Number](#Matching-Repetitions-for-Custom-Range/Number \"Goto Matching Repetitions for Custom Range/Number\")<br>\n",
    "[9. Matching Same Text Again in the String](#Matching-Same-Text-Again-in-the-String \"Goto Matching Same Text Again in the String\")<br>\n",
    "[10. Capturing Non Capturing Groups](#Capturing-Non-Capturing-Groups \"Goto Capturing Non Capturing Groups\")<br>\n",
    "[11. DOT](#DOT \"Goto DOT\")<br>\n",
    "[12. PLUS](#PLUS \"Goto PLUS\")<br>\n",
    "[13. ASTERISK](#ASTERISK \"Goto ASTERISK\")<br>\n",
    "[14. Matching Word Boundaries](#Matching-Word-Boundaries \"Goto Matching Word Boundaries\")<br>\n",
    "[15. Alternative Matching](#Alternative-Matching \"Goto Alternative Matching\")<br>\n",
    "[16. Positive Lookahead](#Positive-Lookahead \"Goto Positive Lookahead\")<br>\n",
    "[17. Positive Lookbehind](#Positive-Lookbehind \"Goto Positive Lookbehind\")<br>\n",
    "[18. Negative Lookahead](#Negative-Lookahead \"Goto Negative Lookahead\")<br>\n",
    "[19. Negative Lookbehind](#Negative-Lookbehind \"Goto Negative Lookbehind\")<br>\n",
    "[20. Backreferences to Failed Groups](#Backreferences-to-Failed-Groups \"Goto Backreferences to Failed Groups\")<br>"
   ]
  },
  {
   "cell_type": "markdown",
   "metadata": {},
   "source": [
    "# Match a String\n",
    "[INDEX](#INDEX \"Goto INDEX\")<br>"
   ]
  },
  {
   "cell_type": "markdown",
   "metadata": {},
   "source": [
    "**Task :**<br>\n",
    "Your task is to match a string 'technology in the given sentence.'"
   ]
  },
  {
   "cell_type": "code",
   "execution_count": 22,
   "metadata": {},
   "outputs": [
    {
     "name": "stdout",
     "output_type": "stream",
     "text": [
      "Number of matches : 2\n",
      "Match : ['technology', 'technology']\n"
     ]
    }
   ],
   "source": [
    "Regex_Pattern = r'technology'\n",
    "\n",
    "Test_String = \"It has become appallingly obvious that our technology has exceeded our humanity. technology is future.\"\n",
    "match = re.findall(Regex_Pattern, Test_String) \n",
    "print(\"Number of matches :\", len(match))\n",
    "print(\"Match :\", match)"
   ]
  },
  {
   "cell_type": "markdown",
   "metadata": {},
   "source": [
    "# Matching Word and Non Word Character\n",
    "[INDEX](#INDEX \"Goto INDEX\")<br>\n",
    "* **\\w** : will match any word character. <br>\n",
    "Word characters include alphanumeric characters (a-z, A-Z and 0-9) and underscores (_).\n",
    "* **\\W** : matches any non-word character. "
   ]
  },
  {
   "cell_type": "markdown",
   "metadata": {},
   "source": [
    "**Task :**<br>\n",
    "You have a test string S. Your task is to match the pattern xxxXxxxxxxXxxxXxxxxxxxxxxxxxx  \n",
    "Here, x denotes any word character, and X denotes any non-word character."
   ]
  },
  {
   "cell_type": "code",
   "execution_count": 25,
   "metadata": {},
   "outputs": [
    {
     "name": "stdout",
     "output_type": "stream",
     "text": [
      "Search: <_sre.SRE_Match object; span=(0, 29), match='www.github.com/AbhinavJhanwar'>\n",
      "True\n",
      "Search: None\n",
      "False\n"
     ]
    }
   ],
   "source": [
    "Regex_Pattern = r\"\\w\\w\\w\\W\\w\\w\\w\\w\\w\\w\\W\\w\\w\\w\\W\\w\\w\\w\\w\\w\\w\\w\\w\\w\\w\\w\\w\\w\\w\"\n",
    "\n",
    "Test_String = \"www.github.com/AbhinavJhanwar\"\n",
    "match = re.search(Regex_Pattern, Test_String) \n",
    "print('Search:', match)\n",
    "print(str(bool(match)))\n",
    "\n",
    "Test_String = \"www.github.com\"\n",
    "match = re.search(Regex_Pattern, Test_String) \n",
    "print('Search:', match)\n",
    "print(bool(match))"
   ]
  },
  {
   "cell_type": "markdown",
   "metadata": {},
   "source": [
    "# Matching Whitespace and NonWhitespace Character\n",
    "[INDEX](#INDEX \"Goto INDEX\")<br>\n",
    "* **\\s** : matches any whitespace character [ \\r\\n\\t\\f ].\n",
    "* **\\S** : matches any non-white space character."
   ]
  },
  {
   "cell_type": "markdown",
   "metadata": {},
   "source": [
    "**Task :**<br>\n",
    "You have a test string S. Your task is to match the pattern XXxXXxXX  \n",
    "Here, x denotes whitespace characters, and X denotes non-white space characters."
   ]
  },
  {
   "cell_type": "code",
   "execution_count": 23,
   "metadata": {},
   "outputs": [
    {
     "name": "stdout",
     "output_type": "stream",
     "text": [
      "Search:  <_sre.SRE_Match object; span=(0, 8), match='12 11 15'>\n",
      "True\n"
     ]
    }
   ],
   "source": [
    "Regex_Pattern = r\"\\S\\S\\s\\S\\S\\s\\S\\S\"\n",
    "\n",
    "Test_String = \"12 11 15\"\n",
    "match = re.search(Regex_Pattern, Test_String)\n",
    "print('Search: ', match)\n",
    "print(bool(match))"
   ]
  },
  {
   "cell_type": "markdown",
   "metadata": {},
   "source": [
    "# Digit Non Digit\n",
    "[INDEX](#INDEX \"Goto INDEX\")<br>\n",
    "* **\\d** : the expression matches any digit [0-9].\n",
    "* **\\D** : the expression matches any non digit."
   ]
  },
  {
   "cell_type": "markdown",
   "metadata": {},
   "source": [
    "**Task :**<br>\n",
    "You have a test string S. Your task is to match the pattern xxXxxXxxxx\n",
    "Here x denotes a digit character, and X denotes a non-digit character."
   ]
  },
  {
   "cell_type": "code",
   "execution_count": 24,
   "metadata": {},
   "outputs": [
    {
     "name": "stdout",
     "output_type": "stream",
     "text": [
      "Search: <_sre.SRE_Match object; span=(0, 10), match='06-11-2015'>\n",
      "True\n"
     ]
    }
   ],
   "source": [
    "Regex_Pattern = r\"\\d\\d\\D\\d\\d\\D\\d\\d\\d\\d\"\n",
    "\n",
    "Test_String = \"06-11-2015\"\n",
    "match = re.search(Regex_Pattern, Test_String) \n",
    "print('Search:', match)\n",
    "print(bool(match))"
   ]
  },
  {
   "cell_type": "markdown",
   "metadata": {},
   "source": [
    "## Match Start and End\n",
    "[INDEX](#INDEX \"Goto INDEX\")<br>\n",
    "* ^ : matches the position at the start of a string.\n",
    "* $ : matches the position at the end of a string."
   ]
  },
  {
   "cell_type": "markdown",
   "metadata": {},
   "source": [
    "**Task :**<br>\n",
    "You have a test string S. Your task is to match the pattern Xxxxx. \n",
    "Here, x denotes a word character, and X denotes a digit. \n",
    "S must start with a digit X and end with '.' symbol. \n",
    "S should be 6 characters long only."
   ]
  },
  {
   "cell_type": "code",
   "execution_count": 27,
   "metadata": {},
   "outputs": [
    {
     "name": "stdout",
     "output_type": "stream",
     "text": [
      "Search: <_sre.SRE_Match object; span=(0, 6), match='0abhi.'>\n",
      "True\n",
      "Search: None\n",
      "False\n"
     ]
    }
   ],
   "source": [
    "Regex_Pattern = r\"^\\d\\w\\w\\w\\w\\.$\"\n",
    "\n",
    "Test_String = \"0abhi.\"\n",
    "match = re.search(Regex_Pattern, Test_String) \n",
    "print('Search:', match)\n",
    "print(bool(match))\n",
    "\n",
    "Test_String = \"0dyjj\"\n",
    "match = re.search(Regex_Pattern, Test_String) \n",
    "print('Search:', match)\n",
    "print(bool(match))"
   ]
  },
  {
   "cell_type": "markdown",
   "metadata": {},
   "source": [
    "# Matching Character Ranges\n",
    "[INDEX](#INDEX \"Goto INDEX\")<br>\n",
    "**[ ]** : matches any character or range of characters that is in the square brackets.\n"
   ]
  },
  {
   "cell_type": "markdown",
   "metadata": {},
   "source": [
    "**Task :**<br>\n",
    "\n",
    "Write a RegEx that will match a string satisfying the following conditions:\n",
    "\n",
    "* The string's length is >=3.\n",
    "* The first character must be a lowercase English alphabetic character.\n",
    "* The second character must be a positive digit. Note that we consider zero to be neither positive nor negative.\n",
    "* The third character must be an uppercase English alphabetic character."
   ]
  },
  {
   "cell_type": "code",
   "execution_count": 31,
   "metadata": {},
   "outputs": [
    {
     "name": "stdout",
     "output_type": "stream",
     "text": [
      "Search: <_sre.SRE_Match object; span=(0, 3), match='b4L'>\n",
      "True\n",
      "Search: None\n",
      "False\n"
     ]
    }
   ],
   "source": [
    "Regex_Pattern = r'^[a-z][1-9][A-Z]'\n",
    "\n",
    "Test_String = \"b4Ll\"\n",
    "match = re.search(Regex_Pattern, Test_String) \n",
    "print('Search:', match)\n",
    "print(bool(match))\n",
    "\n",
    "Test_String = \"b4ll\"\n",
    "match = re.search(Regex_Pattern, Test_String) \n",
    "print('Search:', match)\n",
    "print(bool(match))"
   ]
  },
  {
   "cell_type": "markdown",
   "metadata": {},
   "source": [
    "# Excluding Specific Characters\n",
    "[INDEX](#INDEX \"Goto INDEX\")<br>\n",
    "**[^]** : The negated character class [^] matches any character that is not in the square brackets."
   ]
  },
  {
   "cell_type": "markdown",
   "metadata": {},
   "source": [
    "**Task :**<br>\n",
    "\n",
    "You have a test string S. \n",
    "Your task is to write a regex that will match S with the following conditions:\n",
    "* S must be of length 6.\n",
    "* First character should not be a digit [0-9].\n",
    "* Second character should not be a lowercase vowel (a e i o u).\n",
    "* Third character should not be b, c, D or F.\n",
    "* Fourth character should not be a whitespace character ( \\r, \\n, \\t, \\f or <space> ).\n",
    "* Fifth character should not be a uppercase vowel (A E I O U).\n",
    "* Sixth character should not be a . or , symbol."
   ]
  },
  {
   "cell_type": "code",
   "execution_count": 35,
   "metadata": {},
   "outputs": [
    {
     "name": "stdout",
     "output_type": "stream",
     "text": [
      "Search: <_sre.SRE_Match object; span=(0, 6), match='think?'>\n",
      "True\n",
      "Search: None\n",
      "False\n"
     ]
    }
   ],
   "source": [
    "Regex_Pattern = r'^\\D[^aeiou][^bcDF]\\S[^AEIOU][^.,]$'\n",
    "\n",
    "Test_String = \"think?\"\n",
    "match = re.search(Regex_Pattern, Test_String) \n",
    "print('Search:', match)\n",
    "print(bool(match))\n",
    "\n",
    "Test_String = \"Hello?\"\n",
    "match = re.search(Regex_Pattern, Test_String) \n",
    "print('Search:', match)\n",
    "print(bool(match))"
   ]
  },
  {
   "cell_type": "markdown",
   "metadata": {},
   "source": [
    "# Matching Repetitions for Custom Range/Number\n",
    "[INDEX](#INDEX \"Goto INDEX\")<br>\n",
    "**{x,y}**  : The {x,y} tool will match between x and y (both inclusive) repetitions of character/character class/group.<br>\n",
    "**{x}** : The tool {x} will match exactly x repetitions of character/character class/groups.<br><br>\n",
    "For Example:\n",
    "* w{3,5} : It will match the character w 3, 4 or 5 times. \n",
    "* [xyz]{5,} : It will match the character x, y or z 5 or more times. \n",
    "* \\d{1, 4} : It will match any digits 1, 2, 3, or 4 times."
   ]
  },
  {
   "cell_type": "markdown",
   "metadata": {},
   "source": [
    "**Task :**<br>\n",
    "\n",
    "You have a test string S. \n",
    "Your task is to write a regex that will match S using the following conditions:\n",
    "\n",
    "* S should begin with 1 or 2 digits.\n",
    "* After that, S should have 3 or more letters (both lowercase and uppercase).\n",
    "* Then S should end with exactly 3 . symbol(s).\n"
   ]
  },
  {
   "cell_type": "code",
   "execution_count": 50,
   "metadata": {},
   "outputs": [
    {
     "name": "stdout",
     "output_type": "stream",
     "text": [
      "True\n"
     ]
    }
   ],
   "source": [
    "Regex_Pattern = r'^\\d{1,2}[a-zA-Z]{3,}\\.{3}$'\n",
    "\n",
    "Test_String = \"3threeORmoreALPHABETS...\"\n",
    "match = re.search(Regex_Pattern, Test_String) \n",
    "print(bool(match))"
   ]
  },
  {
   "cell_type": "markdown",
   "metadata": {},
   "source": [
    "# Matching Same Text Again in the String\n",
    "[INDEX](#INDEX \"Goto INDEX\")<br>\n",
    "**\\group_number**: This tool (\\1 references the first capturing group) matches the same text as previously matched by the capturing group.<br><br>\n",
    "For example:<br>\n",
    "* (\\d)\\1: It can match 00, 11, 22, 33, 44, 55, 66, 77, 88 or 99.\n",
    "* (\\w)(\\w)(\\w)(\\w)y\\4\\3\\2\\1: It will match malayalam"
   ]
  },
  {
   "cell_type": "markdown",
   "metadata": {},
   "source": [
    "**Task :**<br>\n",
    "\n",
    "You have a test string S. \n",
    "Your task is to write a regex that will match S with the following conditions:\n",
    "\n",
    "* S must be of length: 20\n",
    "* 1st character: lowercase letter.\n",
    "* 2nd character: word character.\n",
    "* 3rd character: whitespace character.\n",
    "* 4th character: non word character.\n",
    "* 5th character: digit.\n",
    "* 6th character: non digit.\n",
    "* 7th character: uppercase letter.\n",
    "* 8th character: letter (either lowercase or uppercase).\n",
    "* 9th character: vowel (a, e, i , o , u, A, E, I, O or U).\n",
    "* 10th character: non whitespace character.\n",
    "* 11th character: should be same as 1st character.\n",
    "* 12th character: should be same as 2nd character.\n",
    "* 13th character: should be same as 3rd character.\n",
    "* 14th character: should be same as 4th character.\n",
    "* 15th character: should be same as 5th character.\n",
    "* 16th character: should be same as 6th character.\n",
    "* 17th character: should be same as 7th character.\n",
    "* 18th character: should be same as 8th character.\n",
    "* 19th character: should be same as 9th character.\n",
    "* 20th character: should be same as 10th character."
   ]
  },
  {
   "cell_type": "code",
   "execution_count": 51,
   "metadata": {},
   "outputs": [
    {
     "name": "stdout",
     "output_type": "stream",
     "text": [
      "<_sre.SRE_Match object; span=(0, 20), match='ab #1?AZa$ab #1?AZa$'>\n"
     ]
    }
   ],
   "source": [
    "regex_pattern = r'^([a-z])(\\w)(\\s)(\\W)(\\d)(\\D)([A-Z])([a-zA-Z])([aeiouAEIOU])(\\S)\\1\\2\\3\\4\\5\\6\\7\\8\\9\\10$'\n",
    "\n",
    "Test_String = \"ab #1?AZa$ab #1?AZa$\"\n",
    "match = re.search(regex_pattern, Test_String) \n",
    "print(match)"
   ]
  },
  {
   "cell_type": "markdown",
   "metadata": {},
   "source": [
    "# Capturing Non Capturing Groups\n",
    "[INDEX](#INDEX \"Goto INDEX\")<br>\n",
    "Parenthesis **( )** around a regular expression can group that part of regex together. \n",
    "This allows us to apply different quantifiers to that group.\n",
    "These parenthesis also create a numbered capturing. \n",
    "It stores the part of string matched by the part of regex inside parentheses.\n",
    "These numbered capturing can be used for backreferences.\n",
    "\n",
    "**(?: )** can be used to create a non-capturing group. It is useful if we do not need the group to capture its match."
   ]
  },
  {
   "cell_type": "markdown",
   "metadata": {},
   "source": [
    "**Task :**<br>\n",
    "You have a test String S. \n",
    "Your task is to write a regex which will match S with the following condition:\n",
    "* S should have 3 or more consecutive repetitions of ok."
   ]
  },
  {
   "cell_type": "code",
   "execution_count": 48,
   "metadata": {},
   "outputs": [
    {
     "name": "stdout",
     "output_type": "stream",
     "text": [
      "Search: <_sre.SRE_Match object; span=(0, 6), match='okokok'>\n"
     ]
    }
   ],
   "source": [
    "regex_pattern = r'(ok){3,}'\n",
    "\n",
    "Test_String = \"okokok! cya\"\n",
    "match = re.search(regex_pattern, Test_String) \n",
    "print('Search:', match)"
   ]
  },
  {
   "cell_type": "markdown",
   "metadata": {},
   "source": [
    "# DOT\n",
    "[INDEX](#INDEX \"Goto INDEX\")<br>\n",
    "The dot (**.**) matches anything (except for a newline) for 1 time."
   ]
  },
  {
   "cell_type": "code",
   "execution_count": 40,
   "metadata": {},
   "outputs": [
    {
     "name": "stdout",
     "output_type": "stream",
     "text": [
      "Match:  <_sre.SRE_Match object; span=(0, 15), match='123.456.abc.def'>\n",
      "Match:  None\n",
      "Match:  <_sre.SRE_Match object; span=(0, 15), match='123.456.,.*.253'>\n"
     ]
    }
   ],
   "source": [
    "regex_pattern = r\"...\\....\\....\\....$\"\n",
    "\n",
    "Test_String = \"123.456.abc.def\"\n",
    "# here 1, 2, 3 , a, b, c could be any character other than new line\n",
    "# match pattern exactly as above\n",
    "match = re.match(regex_pattern, Test_String) \n",
    "# match found\n",
    "print('Match: ', match)\n",
    "\n",
    "Test_String = \"123.456.abc.defdf\"\n",
    "match = re.match(regex_pattern, Test_String) \n",
    "# match not found as extra character in last defdf should be 3 letters only\n",
    "print('Match: ', match)\n",
    "\n",
    "Test_String = \"123.456.,.*.253\"\n",
    "match = re.match(regex_pattern, Test_String) \n",
    "print('Match: ', match)"
   ]
  },
  {
   "cell_type": "markdown",
   "metadata": {},
   "source": [
    "# PLUS\n",
    "[INDEX](#INDEX \"Goto INDEX\")<br>\n",
    "The plus (**+**) tool will match one or more repetitions of character/character class/group.<BR><br>\n",
    "For Example:<BR>\n",
    "\n",
    "* w+ : It will match the character w 1 or more times. \n",
    "* [xyz]+ : It will match the character x, y or z 1 or more times.\n",
    "* \\d+ : It will match any digit 1 or more times.\n"
   ]
  },
  {
   "cell_type": "markdown",
   "metadata": {},
   "source": [
    "**Task :**<BR>\n",
    "    \n",
    "You have a test string S. \n",
    "Your task is to write a regex that will match S using the following conditions:\n",
    "* S should begin with 1 or more digits.\n",
    "* After that, S should have 1 or more uppercase letters.\n",
    "* S should end with 1 or more lowercase letters"
   ]
  },
  {
   "cell_type": "code",
   "execution_count": 36,
   "metadata": {},
   "outputs": [
    {
     "name": "stdout",
     "output_type": "stream",
     "text": [
      "Search: <_sre.SRE_Match object; span=(0, 3), match='1Qa'>\n"
     ]
    }
   ],
   "source": [
    "regex_pattern = r'^\\d+[A-Z]+[a-z]+$'\n",
    "\n",
    "Test_String = \"1Qa\"\n",
    "match = re.search(regex_pattern, Test_String) \n",
    "print('Search:', match)"
   ]
  },
  {
   "cell_type": "markdown",
   "metadata": {},
   "source": [
    "# ASTERISK\n",
    "[INDEX](#INDEX \"Goto INDEX\")<br>\n",
    "The asterisk (*****) tool will match zero or more repetitions of character/character class/group.<br>\n",
    "\n",
    "Example:\n",
    "* w* : It will match the character w 0 or more times. \n",
    "* [xyz]* : It will match the characters x, y or z 0 or more times. \n",
    "* \\d* : It will match any digit 0 or more times."
   ]
  },
  {
   "cell_type": "markdown",
   "metadata": {},
   "source": [
    "**Task:**<BR>\n",
    "You have a test string S. <BR>\n",
    "Your task is to write a regex that will match S using the following conditions:<BR>\n",
    "\n",
    "* S should begin with 2 or more digits.<BR>\n",
    "* After that, S should have 0 or more lowercase letters.<BR>\n",
    "* S should end with 0 or more uppercase letters"
   ]
  },
  {
   "cell_type": "code",
   "execution_count": 45,
   "metadata": {},
   "outputs": [
    {
     "name": "stdout",
     "output_type": "stream",
     "text": [
      "<_sre.SRE_Match object; span=(0, 2), match='12'>\n",
      "<_sre.SRE_Match object; span=(0, 18), match='12lowercaseLETTERS'>\n"
     ]
    }
   ],
   "source": [
    "regex_pattern = r'^\\d{2,}[a-z]*[A-Z]*$'\n",
    "\n",
    "Test_String = \"12\"\n",
    "match = re.search(regex_pattern, Test_String) \n",
    "print(match)\n",
    "\n",
    "Test_String = \"12lowercaseLETTERS\"\n",
    "match = re.search(regex_pattern, Test_String) \n",
    "print(match)"
   ]
  },
  {
   "cell_type": "markdown",
   "metadata": {},
   "source": [
    "# Matching Word Boundaries\n",
    "[INDEX](#INDEX \"Goto INDEX\")<br>\n",
    "\\b assert position at a word boundary.<br>\n",
    "Three different positions qualify for word boundaries : \n",
    "* Before the first character in the string, if the first character is a word character. \n",
    "* Between two characters in the string, where one is a word character and the other is not a word character. \n",
    "* After the last character in the string, if the last character is a word character."
   ]
  },
  {
   "cell_type": "markdown",
   "metadata": {},
   "source": [
    "**Task :**<br>\n",
    "Your task is to write a regex which will match word starting with vowel (a,e,i,o, u, A, E, I , O or U). \n",
    "* The matched word can be of any length. The matched word should consist of letters (lowercase and uppercase both) only. \n",
    "* The matched word must start and end with a word boundary."
   ]
  },
  {
   "cell_type": "code",
   "execution_count": 57,
   "metadata": {},
   "outputs": [
    {
     "name": "stdout",
     "output_type": "stream",
     "text": [
      "['any']\n",
      "['any', 'if', 'enjoy']\n"
     ]
    }
   ],
   "source": [
    "regex_pattern = r'\\b[AEIOUaeiou][A-Za-z]*\\b'\n",
    "\n",
    "Test_String = \"Found any match?\"\n",
    "match = re.findall(regex_pattern, Test_String) \n",
    "print(match)\n",
    "\n",
    "Test_String = \"Found any match? if yes enjoy.\"\n",
    "match = re.findall(regex_pattern, Test_String) \n",
    "print(match)"
   ]
  },
  {
   "cell_type": "markdown",
   "metadata": {},
   "source": [
    "# Alternative Matching\n",
    "[INDEX](#INDEX \"Goto INDEX\")<br>\n",
    "Alternations, denoted by the | character, match a single item out of several possible items separated by the vertical bar. \n",
    "When used inside a character class, it will match characters; \n",
    "when used inside a group, it will match entire expressions (i.e., everything to the left or everything to the right of the vertical bar). \n",
    "We must use parentheses to limit the use of alternations.\n",
    "\n",
    "For example:<br>\n",
    "* (Bob|Kevin|Stuart) will match either Bob or Kevin or Stuart.\n",
    "* ([a-f]|[A-F]) will match any of the following characters: a, b, c, d, e, f, A, B, C, D, E, or F."
   ]
  },
  {
   "cell_type": "markdown",
   "metadata": {},
   "source": [
    "**Task :**<br>\n",
    "Given a test string, s, write a RegEx that matches s under the following conditions:\n",
    "* s must start with Mr., Mrs., Ms., Dr. or Er..\n",
    "* The rest of the string must contain only one or more English alphabetic letters (upper and lowercase)."
   ]
  },
  {
   "cell_type": "code",
   "execution_count": 58,
   "metadata": {},
   "outputs": [
    {
     "name": "stdout",
     "output_type": "stream",
     "text": [
      "<_sre.SRE_Match object; span=(0, 8), match='Mr.DOSHI'>\n"
     ]
    }
   ],
   "source": [
    "regex_pattern = r'^(Mr\\.|Mrs\\.|Ms\\.|Dr\\.|Er\\.)[a-zA-Z]+$'\n",
    "\n",
    "Test_String = \"Mr.DOSHI\"\n",
    "match = re.search(regex_pattern, Test_String) \n",
    "print(match)"
   ]
  },
  {
   "cell_type": "markdown",
   "metadata": {},
   "source": [
    "# Positive Lookahead\n",
    "[INDEX](#INDEX \"Goto INDEX\")<br>\n",
    "**regex_1(?=regex_2)**<br>\n",
    "The positive lookahead **(?=)** asserts regex_1 to be immediately followed by regex_2. \n",
    "The lookahead is excluded from the match. \n",
    "It does not return matches of regex_2. \n",
    "The lookahead only asserts whether a match is possible or not.<br><br>\n",
    "for example:<br>\n",
    "* c(?=o): chocolate- it will match co here but will return only c as o is excluded"
   ]
  },
  {
   "cell_type": "markdown",
   "metadata": {},
   "source": [
    "**Task :**<br>\n",
    "\n",
    "You have a test string S. \n",
    "Write a regex that can match all occurrences of o followed immediately by oo in S."
   ]
  },
  {
   "cell_type": "code",
   "execution_count": 61,
   "metadata": {},
   "outputs": [
    {
     "name": "stdout",
     "output_type": "stream",
     "text": [
      "['o', 'o', 'o']\n"
     ]
    }
   ],
   "source": [
    "regex_pattern = r\"o(?=oo)\"\n",
    "\n",
    "Test_String = \"gooooo!\"\n",
    "match = re.findall(regex_pattern, Test_String) \n",
    "print(match)"
   ]
  },
  {
   "cell_type": "markdown",
   "metadata": {},
   "source": [
    "# Positive Lookbehind\n",
    "[INDEX](#INDEX \"Goto INDEX\")<br>\n",
    "**(?<=regex_2)regex_1**<br>\n",
    "The positive lookbehind **(?<=)** asserts regex_1 to be immediately preceded by regex_2. \n",
    "Lookbehind is excluded from the match (do not consume matches of regex_2),\n",
    "but only assert whether a match is possible or not."
   ]
  },
  {
   "cell_type": "markdown",
   "metadata": {},
   "source": [
    "**Task :**<br>\n",
    "\n",
    "You have a test string S. \n",
    "Write a regex which can match all the occurences of digit which are immediately preceded by odd digit."
   ]
  },
  {
   "cell_type": "code",
   "execution_count": 60,
   "metadata": {},
   "outputs": [
    {
     "name": "stdout",
     "output_type": "stream",
     "text": [
      "['2']\n",
      "['9', '0', '8']\n"
     ]
    }
   ],
   "source": [
    "regex_pattern = r\"(?<=[13579])\\d\"\n",
    "\n",
    "Test_String = \"123Go!\"\n",
    "match = re.findall(regex_pattern, Test_String) \n",
    "print(match)\n",
    "\n",
    "Test_String = \"23904658hello!\"\n",
    "match = re.findall(regex_pattern, Test_String) \n",
    "print(match)"
   ]
  },
  {
   "cell_type": "markdown",
   "metadata": {},
   "source": [
    "# Negative Lookahead\n",
    "[INDEX](#INDEX \"Goto INDEX\")<br>\n",
    "**regex_1(?!regex_2)**<br>\n",
    "The negative lookahead **(?!)** asserts regex_1 not to be immediately followed by regex_2. \n",
    "Lookahead is excluded from the match (do not consume matches of regex_2), \n",
    "but only assert whether a match is possible or not.<br><br>\n",
    "for example:<br>\n",
    "* c(?!o): chocolate- it will match only first c here as it is not succeded by o"
   ]
  },
  {
   "cell_type": "markdown",
   "metadata": {},
   "source": [
    "**Task :**<br>\n",
    "\n",
    "You have a test string S. \n",
    "Write a regex which can match all characters which are not immediately followed by that same character."
   ]
  },
  {
   "cell_type": "code",
   "execution_count": 64,
   "metadata": {},
   "outputs": [
    {
     "name": "stdout",
     "output_type": "stream",
     "text": [
      "['g', 'o', '!']\n"
     ]
    }
   ],
   "source": [
    "regex_pattern = r\"(.)(?!\\1)\"\n",
    "\n",
    "Test_String = \"gooooo!\"\n",
    "match = re.findall(regex_pattern, Test_String) \n",
    "# here we get only last o to be matching the pattern\n",
    "print(match)"
   ]
  },
  {
   "cell_type": "markdown",
   "metadata": {},
   "source": [
    "# Negative Lookbehind\n",
    "[INDEX](#INDEX \"Goto INDEX\")<br>\n",
    "**(?<!regex_2)regex_1**<br>\n",
    "The negative lookbehind **(?<!)** asserts regex_1 not to be immediately preceded by regex_2. \n",
    "Lookbehind is excluded from the match (do not consume matches of regex_2), \n",
    "but only assert whether a match is possible or not."
   ]
  },
  {
   "cell_type": "markdown",
   "metadata": {},
   "source": [
    "**Task :**<br>\n",
    "\n",
    "You have a test string S. \n",
    "Write a regex which can match all the occurences of characters which are not immediately preceded by vowels (a, e, i, u, o, A, E, I, O, U)."
   ]
  },
  {
   "cell_type": "code",
   "execution_count": 68,
   "metadata": {},
   "outputs": [
    {
     "name": "stdout",
     "output_type": "stream",
     "text": [
      "['1', 'o', 's']\n"
     ]
    }
   ],
   "source": [
    "regex_pattern = r\"(?<![aeiouAEIOU]).\"\n",
    "\n",
    "Test_String = \"1o4s\"\n",
    "match = re.findall(regex_pattern, Test_String) \n",
    "print(match)"
   ]
  },
  {
   "cell_type": "markdown",
   "metadata": {},
   "source": [
    "# Backreferences to Failed Groups\n",
    "[INDEX](#INDEX \"Goto INDEX\")<br>\n",
    "Backreference to a capturing group that match nothing is different from backreference to a capturing group that did not participate in the match at all.\n",
    "<br>\n",
    "Capturing group that match nothing\n",
    "* (b?)o\\1: will successfully match o.\n",
    "Here, b? is optional and matches nothing. \n",
    "Thus, (b?) is successfully matched and capture nothing. \n",
    "o is matched with o and \\1 successfully matches the nothing captured by the group.\n",
    "<br>\n",
    "Capturing group that didn't participate in the match at all\n",
    "* (b)?o\\1:\n",
    "In most regex flavors (excluding JavaScript), (b)?o\\1 fails to match o. \n",
    "Here, (b) fails to match at all. Since, the whole group is optional the regex engine does proceed to match o. \n",
    "The regex engine now arrives at \\1 which references a group that did not participate in the match attempt at all. \n",
    "Thus, the backreference fails to match at all."
   ]
  },
  {
   "cell_type": "markdown",
   "metadata": {},
   "source": [
    "**Task :**<br>\n",
    "\n",
    "You have a test string S. \n",
    "Your task is to write a regex which will match S, with following condition(s):\n",
    "\n",
    "* S consists of 8 digits.\n",
    "* S may have \"-\" separator such that string S gets divided in 4 parts, with each part having exactly two digits. (Eg. 12-34-56-78)\n",
    "\n",
    "<br>\n",
    "Valid S:<br>\n",
    "12345678<br>\n",
    "12-34-56-87<br>\n",
    "\n",
    "Invalid S:<br>\n",
    "1-234-56-78<br>\n",
    "12-45-7810"
   ]
  },
  {
   "cell_type": "code",
   "execution_count": 72,
   "metadata": {},
   "outputs": [
    {
     "name": "stdout",
     "output_type": "stream",
     "text": [
      "<_sre.SRE_Match object; span=(0, 11), match='12-45-78-10'>\n"
     ]
    }
   ],
   "source": [
    "regex_pattern = r\"^\\d{2}(-?)\\d{2}\\1\\d{2}\\1\\d{2}$\"\n",
    "\n",
    "Test_String = \"12-45-78-10\"\n",
    "match = re.search(regex_pattern, Test_String) \n",
    "print(match)\n"
   ]
  }
 ],
 "metadata": {
  "kernelspec": {
   "display_name": "Python 3",
   "language": "python",
   "name": "python3"
  },
  "language_info": {
   "codemirror_mode": {
    "name": "ipython",
    "version": 3
   },
   "file_extension": ".py",
   "mimetype": "text/x-python",
   "name": "python",
   "nbconvert_exporter": "python",
   "pygments_lexer": "ipython3",
   "version": "3.6.10"
  }
 },
 "nbformat": 4,
 "nbformat_minor": 4
}
